{
 "cells": [
  {
   "cell_type": "code",
   "execution_count": 1,
   "id": "048a3741",
   "metadata": {},
   "outputs": [],
   "source": [
    "# setup dependencies\n",
    "import matplotlib.pyplot as plt\n",
    "import pandas as pd\n",
    "import scipy.stats as st\n",
    "import numpy as np\n",
    "from scipy.stats import linregress \n",
    "import re"
   ]
  },
  {
   "cell_type": "code",
   "execution_count": 2,
   "id": "246a923a",
   "metadata": {},
   "outputs": [],
   "source": [
    "# Upload csv file\n",
    "shoe_data = pd.read_csv(\"clean_data.csv\", low_memory=False)"
   ]
  },
  {
   "cell_type": "code",
   "execution_count": 3,
   "id": "74a8874a",
   "metadata": {},
   "outputs": [
    {
     "data": {
      "text/html": [
       "<div>\n",
       "<style scoped>\n",
       "    .dataframe tbody tr th:only-of-type {\n",
       "        vertical-align: middle;\n",
       "    }\n",
       "\n",
       "    .dataframe tbody tr th {\n",
       "        vertical-align: top;\n",
       "    }\n",
       "\n",
       "    .dataframe thead th {\n",
       "        text-align: right;\n",
       "    }\n",
       "</style>\n",
       "<table border=\"1\" class=\"dataframe\">\n",
       "  <thead>\n",
       "    <tr style=\"text-align: right;\">\n",
       "      <th></th>\n",
       "      <th>id</th>\n",
       "      <th>brand</th>\n",
       "      <th>primaryCategories</th>\n",
       "      <th>colors</th>\n",
       "      <th>ean / upc</th>\n",
       "      <th>manufacturer</th>\n",
       "      <th>name</th>\n",
       "      <th>prices.amountMax</th>\n",
       "      <th>prices.amountMin</th>\n",
       "      <th>prices.availability</th>\n",
       "      <th>...</th>\n",
       "      <th>color 4</th>\n",
       "      <th>color 5</th>\n",
       "      <th>color 6</th>\n",
       "      <th>category 1</th>\n",
       "      <th>category 2</th>\n",
       "      <th>category 3</th>\n",
       "      <th>category 4</th>\n",
       "      <th>category 5</th>\n",
       "      <th>category 6</th>\n",
       "      <th>category 7</th>\n",
       "    </tr>\n",
       "  </thead>\n",
       "  <tbody>\n",
       "    <tr>\n",
       "      <th>0</th>\n",
       "      <td>AV2A4MxtvKc47QAVol_G</td>\n",
       "      <td>Nomad</td>\n",
       "      <td>Shoes</td>\n",
       "      <td>Bluewhite Flower Burst,Blue/White Flower Burst</td>\n",
       "      <td>638000000000</td>\n",
       "      <td>Nomad Footwear</td>\n",
       "      <td>Women's Puddles Boot</td>\n",
       "      <td>36.00</td>\n",
       "      <td>36.00</td>\n",
       "      <td>False</td>\n",
       "      <td>...</td>\n",
       "      <td>Burst</td>\n",
       "      <td>NaN</td>\n",
       "      <td>NaN</td>\n",
       "      <td>Womens Shoes</td>\n",
       "      <td>Clothing</td>\n",
       "      <td>Women's Shoes</td>\n",
       "      <td>All Womens Shoes</td>\n",
       "      <td>Shoes</td>\n",
       "      <td>Backpacking Boots</td>\n",
       "      <td>All Women's Shoes</td>\n",
       "    </tr>\n",
       "    <tr>\n",
       "      <th>1</th>\n",
       "      <td>AVpe3xOJLJeJML43xIBp</td>\n",
       "      <td>Brinley Co.</td>\n",
       "      <td>Shoes</td>\n",
       "      <td>Brown,Pink,Blush,Black,Grey</td>\n",
       "      <td>870000000000</td>\n",
       "      <td>Brinley Co.</td>\n",
       "      <td>Womens Pointed Toe Strappy Gladiator Flats</td>\n",
       "      <td>19.95</td>\n",
       "      <td>19.95</td>\n",
       "      <td>True</td>\n",
       "      <td>...</td>\n",
       "      <td>NaN</td>\n",
       "      <td>NaN</td>\n",
       "      <td>NaN</td>\n",
       "      <td>Womens Shoes</td>\n",
       "      <td>Clothing</td>\n",
       "      <td>Women's Shoes</td>\n",
       "      <td>All Womens Shoes</td>\n",
       "      <td>Shoes</td>\n",
       "      <td>All Women's Shoes</td>\n",
       "      <td>NaN</td>\n",
       "    </tr>\n",
       "    <tr>\n",
       "      <th>2</th>\n",
       "      <td>AVpe3xOJLJeJML43xIBp</td>\n",
       "      <td>Brinley Co.</td>\n",
       "      <td>Shoes</td>\n",
       "      <td>Brown,Pink,Blush,Black,Grey</td>\n",
       "      <td>870000000000</td>\n",
       "      <td>Brinley Co.</td>\n",
       "      <td>Womens Pointed Toe Strappy Gladiator Flats</td>\n",
       "      <td>19.95</td>\n",
       "      <td>19.95</td>\n",
       "      <td>True</td>\n",
       "      <td>...</td>\n",
       "      <td>NaN</td>\n",
       "      <td>NaN</td>\n",
       "      <td>NaN</td>\n",
       "      <td>Womens Shoes</td>\n",
       "      <td>Clothing</td>\n",
       "      <td>Women's Shoes</td>\n",
       "      <td>All Womens Shoes</td>\n",
       "      <td>Shoes</td>\n",
       "      <td>All Women's Shoes</td>\n",
       "      <td>NaN</td>\n",
       "    </tr>\n",
       "    <tr>\n",
       "      <th>3</th>\n",
       "      <td>AVpe3xOJLJeJML43xIBp</td>\n",
       "      <td>Brinley Co.</td>\n",
       "      <td>Shoes</td>\n",
       "      <td>Brown,Pink,Blush,Black,Grey</td>\n",
       "      <td>870000000000</td>\n",
       "      <td>Brinley Co.</td>\n",
       "      <td>Womens Pointed Toe Strappy Gladiator Flats</td>\n",
       "      <td>19.95</td>\n",
       "      <td>19.95</td>\n",
       "      <td>True</td>\n",
       "      <td>...</td>\n",
       "      <td>NaN</td>\n",
       "      <td>NaN</td>\n",
       "      <td>NaN</td>\n",
       "      <td>Womens Shoes</td>\n",
       "      <td>Clothing</td>\n",
       "      <td>Women's Shoes</td>\n",
       "      <td>All Womens Shoes</td>\n",
       "      <td>Shoes</td>\n",
       "      <td>All Women's Shoes</td>\n",
       "      <td>NaN</td>\n",
       "    </tr>\n",
       "    <tr>\n",
       "      <th>4</th>\n",
       "      <td>AVpe3xOJLJeJML43xIBp</td>\n",
       "      <td>Brinley Co.</td>\n",
       "      <td>Shoes</td>\n",
       "      <td>Brown,Pink,Blush,Black,Grey</td>\n",
       "      <td>870000000000</td>\n",
       "      <td>Brinley Co.</td>\n",
       "      <td>Womens Pointed Toe Strappy Gladiator Flats</td>\n",
       "      <td>19.95</td>\n",
       "      <td>19.95</td>\n",
       "      <td>True</td>\n",
       "      <td>...</td>\n",
       "      <td>NaN</td>\n",
       "      <td>NaN</td>\n",
       "      <td>NaN</td>\n",
       "      <td>Womens Shoes</td>\n",
       "      <td>Clothing</td>\n",
       "      <td>Women's Shoes</td>\n",
       "      <td>All Womens Shoes</td>\n",
       "      <td>Shoes</td>\n",
       "      <td>All Women's Shoes</td>\n",
       "      <td>NaN</td>\n",
       "    </tr>\n",
       "  </tbody>\n",
       "</table>\n",
       "<p>5 rows × 25 columns</p>\n",
       "</div>"
      ],
      "text/plain": [
       "                     id        brand primaryCategories  \\\n",
       "0  AV2A4MxtvKc47QAVol_G        Nomad             Shoes   \n",
       "1  AVpe3xOJLJeJML43xIBp  Brinley Co.             Shoes   \n",
       "2  AVpe3xOJLJeJML43xIBp  Brinley Co.             Shoes   \n",
       "3  AVpe3xOJLJeJML43xIBp  Brinley Co.             Shoes   \n",
       "4  AVpe3xOJLJeJML43xIBp  Brinley Co.             Shoes   \n",
       "\n",
       "                                           colors     ean / upc  \\\n",
       "0  Bluewhite Flower Burst,Blue/White Flower Burst  638000000000   \n",
       "1                     Brown,Pink,Blush,Black,Grey  870000000000   \n",
       "2                     Brown,Pink,Blush,Black,Grey  870000000000   \n",
       "3                     Brown,Pink,Blush,Black,Grey  870000000000   \n",
       "4                     Brown,Pink,Blush,Black,Grey  870000000000   \n",
       "\n",
       "     manufacturer                                        name  \\\n",
       "0  Nomad Footwear                        Women's Puddles Boot   \n",
       "1     Brinley Co.  Womens Pointed Toe Strappy Gladiator Flats   \n",
       "2     Brinley Co.  Womens Pointed Toe Strappy Gladiator Flats   \n",
       "3     Brinley Co.  Womens Pointed Toe Strappy Gladiator Flats   \n",
       "4     Brinley Co.  Womens Pointed Toe Strappy Gladiator Flats   \n",
       "\n",
       "   prices.amountMax  prices.amountMin  prices.availability  ... color 4  \\\n",
       "0             36.00             36.00                False  ...   Burst   \n",
       "1             19.95             19.95                 True  ...     NaN   \n",
       "2             19.95             19.95                 True  ...     NaN   \n",
       "3             19.95             19.95                 True  ...     NaN   \n",
       "4             19.95             19.95                 True  ...     NaN   \n",
       "\n",
       "  color 5 color 6    category 1 category 2     category 3        category 4  \\\n",
       "0     NaN     NaN  Womens Shoes   Clothing  Women's Shoes  All Womens Shoes   \n",
       "1     NaN     NaN  Womens Shoes   Clothing  Women's Shoes  All Womens Shoes   \n",
       "2     NaN     NaN  Womens Shoes   Clothing  Women's Shoes  All Womens Shoes   \n",
       "3     NaN     NaN  Womens Shoes   Clothing  Women's Shoes  All Womens Shoes   \n",
       "4     NaN     NaN  Womens Shoes   Clothing  Women's Shoes  All Womens Shoes   \n",
       "\n",
       "  category 5         category 6         category 7  \n",
       "0      Shoes  Backpacking Boots  All Women's Shoes  \n",
       "1      Shoes  All Women's Shoes                NaN  \n",
       "2      Shoes  All Women's Shoes                NaN  \n",
       "3      Shoes  All Women's Shoes                NaN  \n",
       "4      Shoes  All Women's Shoes                NaN  \n",
       "\n",
       "[5 rows x 25 columns]"
      ]
     },
     "execution_count": 3,
     "metadata": {},
     "output_type": "execute_result"
    }
   ],
   "source": [
    "# display data\n",
    "shoe_data.head()"
   ]
  },
  {
   "cell_type": "code",
   "execution_count": 4,
   "id": "84f1263d",
   "metadata": {},
   "outputs": [
    {
     "data": {
      "text/html": [
       "<div>\n",
       "<style scoped>\n",
       "    .dataframe tbody tr th:only-of-type {\n",
       "        vertical-align: middle;\n",
       "    }\n",
       "\n",
       "    .dataframe tbody tr th {\n",
       "        vertical-align: top;\n",
       "    }\n",
       "\n",
       "    .dataframe thead th {\n",
       "        text-align: right;\n",
       "    }\n",
       "</style>\n",
       "<table border=\"1\" class=\"dataframe\">\n",
       "  <thead>\n",
       "    <tr style=\"text-align: right;\">\n",
       "      <th></th>\n",
       "      <th>id</th>\n",
       "      <th>brand</th>\n",
       "      <th>primaryCategories</th>\n",
       "      <th>colors</th>\n",
       "      <th>ean / upc</th>\n",
       "      <th>manufacturer</th>\n",
       "      <th>name</th>\n",
       "      <th>prices.amountMax</th>\n",
       "      <th>prices.amountMin</th>\n",
       "      <th>prices.availability</th>\n",
       "      <th>...</th>\n",
       "      <th>color 5</th>\n",
       "      <th>color 6</th>\n",
       "      <th>category 1</th>\n",
       "      <th>category 2</th>\n",
       "      <th>category 3</th>\n",
       "      <th>category 4</th>\n",
       "      <th>category 5</th>\n",
       "      <th>category 6</th>\n",
       "      <th>category 7</th>\n",
       "      <th>Shoe Category</th>\n",
       "    </tr>\n",
       "  </thead>\n",
       "  <tbody>\n",
       "    <tr>\n",
       "      <th>0</th>\n",
       "      <td>AV2A4MxtvKc47QAVol_G</td>\n",
       "      <td>Nomad</td>\n",
       "      <td>Shoes</td>\n",
       "      <td>Bluewhite Flower Burst,Blue/White Flower Burst</td>\n",
       "      <td>638000000000</td>\n",
       "      <td>Nomad Footwear</td>\n",
       "      <td>Women's Puddles Boot</td>\n",
       "      <td>36.00</td>\n",
       "      <td>36.00</td>\n",
       "      <td>False</td>\n",
       "      <td>...</td>\n",
       "      <td>NaN</td>\n",
       "      <td>NaN</td>\n",
       "      <td>Womens Shoes</td>\n",
       "      <td>Clothing</td>\n",
       "      <td>Women's Shoes</td>\n",
       "      <td>All Womens Shoes</td>\n",
       "      <td>Shoes</td>\n",
       "      <td>Backpacking Boots</td>\n",
       "      <td>All Women's Shoes</td>\n",
       "      <td>boot</td>\n",
       "    </tr>\n",
       "    <tr>\n",
       "      <th>1</th>\n",
       "      <td>AVpe3xOJLJeJML43xIBp</td>\n",
       "      <td>Brinley Co.</td>\n",
       "      <td>Shoes</td>\n",
       "      <td>Brown,Pink,Blush,Black,Grey</td>\n",
       "      <td>870000000000</td>\n",
       "      <td>Brinley Co.</td>\n",
       "      <td>Womens Pointed Toe Strappy Gladiator Flats</td>\n",
       "      <td>19.95</td>\n",
       "      <td>19.95</td>\n",
       "      <td>True</td>\n",
       "      <td>...</td>\n",
       "      <td>NaN</td>\n",
       "      <td>NaN</td>\n",
       "      <td>Womens Shoes</td>\n",
       "      <td>Clothing</td>\n",
       "      <td>Women's Shoes</td>\n",
       "      <td>All Womens Shoes</td>\n",
       "      <td>Shoes</td>\n",
       "      <td>All Women's Shoes</td>\n",
       "      <td>NaN</td>\n",
       "      <td>flat</td>\n",
       "    </tr>\n",
       "    <tr>\n",
       "      <th>2</th>\n",
       "      <td>AVpe3xOJLJeJML43xIBp</td>\n",
       "      <td>Brinley Co.</td>\n",
       "      <td>Shoes</td>\n",
       "      <td>Brown,Pink,Blush,Black,Grey</td>\n",
       "      <td>870000000000</td>\n",
       "      <td>Brinley Co.</td>\n",
       "      <td>Womens Pointed Toe Strappy Gladiator Flats</td>\n",
       "      <td>19.95</td>\n",
       "      <td>19.95</td>\n",
       "      <td>True</td>\n",
       "      <td>...</td>\n",
       "      <td>NaN</td>\n",
       "      <td>NaN</td>\n",
       "      <td>Womens Shoes</td>\n",
       "      <td>Clothing</td>\n",
       "      <td>Women's Shoes</td>\n",
       "      <td>All Womens Shoes</td>\n",
       "      <td>Shoes</td>\n",
       "      <td>All Women's Shoes</td>\n",
       "      <td>NaN</td>\n",
       "      <td>flat</td>\n",
       "    </tr>\n",
       "    <tr>\n",
       "      <th>3</th>\n",
       "      <td>AVpe3xOJLJeJML43xIBp</td>\n",
       "      <td>Brinley Co.</td>\n",
       "      <td>Shoes</td>\n",
       "      <td>Brown,Pink,Blush,Black,Grey</td>\n",
       "      <td>870000000000</td>\n",
       "      <td>Brinley Co.</td>\n",
       "      <td>Womens Pointed Toe Strappy Gladiator Flats</td>\n",
       "      <td>19.95</td>\n",
       "      <td>19.95</td>\n",
       "      <td>True</td>\n",
       "      <td>...</td>\n",
       "      <td>NaN</td>\n",
       "      <td>NaN</td>\n",
       "      <td>Womens Shoes</td>\n",
       "      <td>Clothing</td>\n",
       "      <td>Women's Shoes</td>\n",
       "      <td>All Womens Shoes</td>\n",
       "      <td>Shoes</td>\n",
       "      <td>All Women's Shoes</td>\n",
       "      <td>NaN</td>\n",
       "      <td>flat</td>\n",
       "    </tr>\n",
       "    <tr>\n",
       "      <th>4</th>\n",
       "      <td>AVpe3xOJLJeJML43xIBp</td>\n",
       "      <td>Brinley Co.</td>\n",
       "      <td>Shoes</td>\n",
       "      <td>Brown,Pink,Blush,Black,Grey</td>\n",
       "      <td>870000000000</td>\n",
       "      <td>Brinley Co.</td>\n",
       "      <td>Womens Pointed Toe Strappy Gladiator Flats</td>\n",
       "      <td>19.95</td>\n",
       "      <td>19.95</td>\n",
       "      <td>True</td>\n",
       "      <td>...</td>\n",
       "      <td>NaN</td>\n",
       "      <td>NaN</td>\n",
       "      <td>Womens Shoes</td>\n",
       "      <td>Clothing</td>\n",
       "      <td>Women's Shoes</td>\n",
       "      <td>All Womens Shoes</td>\n",
       "      <td>Shoes</td>\n",
       "      <td>All Women's Shoes</td>\n",
       "      <td>NaN</td>\n",
       "      <td>flat</td>\n",
       "    </tr>\n",
       "  </tbody>\n",
       "</table>\n",
       "<p>5 rows × 26 columns</p>\n",
       "</div>"
      ],
      "text/plain": [
       "                     id        brand primaryCategories  \\\n",
       "0  AV2A4MxtvKc47QAVol_G        Nomad             Shoes   \n",
       "1  AVpe3xOJLJeJML43xIBp  Brinley Co.             Shoes   \n",
       "2  AVpe3xOJLJeJML43xIBp  Brinley Co.             Shoes   \n",
       "3  AVpe3xOJLJeJML43xIBp  Brinley Co.             Shoes   \n",
       "4  AVpe3xOJLJeJML43xIBp  Brinley Co.             Shoes   \n",
       "\n",
       "                                           colors     ean / upc  \\\n",
       "0  Bluewhite Flower Burst,Blue/White Flower Burst  638000000000   \n",
       "1                     Brown,Pink,Blush,Black,Grey  870000000000   \n",
       "2                     Brown,Pink,Blush,Black,Grey  870000000000   \n",
       "3                     Brown,Pink,Blush,Black,Grey  870000000000   \n",
       "4                     Brown,Pink,Blush,Black,Grey  870000000000   \n",
       "\n",
       "     manufacturer                                        name  \\\n",
       "0  Nomad Footwear                        Women's Puddles Boot   \n",
       "1     Brinley Co.  Womens Pointed Toe Strappy Gladiator Flats   \n",
       "2     Brinley Co.  Womens Pointed Toe Strappy Gladiator Flats   \n",
       "3     Brinley Co.  Womens Pointed Toe Strappy Gladiator Flats   \n",
       "4     Brinley Co.  Womens Pointed Toe Strappy Gladiator Flats   \n",
       "\n",
       "   prices.amountMax  prices.amountMin  prices.availability  ... color 5  \\\n",
       "0             36.00             36.00                False  ...     NaN   \n",
       "1             19.95             19.95                 True  ...     NaN   \n",
       "2             19.95             19.95                 True  ...     NaN   \n",
       "3             19.95             19.95                 True  ...     NaN   \n",
       "4             19.95             19.95                 True  ...     NaN   \n",
       "\n",
       "  color 6    category 1 category 2     category 3        category 4  \\\n",
       "0     NaN  Womens Shoes   Clothing  Women's Shoes  All Womens Shoes   \n",
       "1     NaN  Womens Shoes   Clothing  Women's Shoes  All Womens Shoes   \n",
       "2     NaN  Womens Shoes   Clothing  Women's Shoes  All Womens Shoes   \n",
       "3     NaN  Womens Shoes   Clothing  Women's Shoes  All Womens Shoes   \n",
       "4     NaN  Womens Shoes   Clothing  Women's Shoes  All Womens Shoes   \n",
       "\n",
       "  category 5         category 6         category 7 Shoe Category  \n",
       "0      Shoes  Backpacking Boots  All Women's Shoes          boot  \n",
       "1      Shoes  All Women's Shoes                NaN          flat  \n",
       "2      Shoes  All Women's Shoes                NaN          flat  \n",
       "3      Shoes  All Women's Shoes                NaN          flat  \n",
       "4      Shoes  All Women's Shoes                NaN          flat  \n",
       "\n",
       "[5 rows x 26 columns]"
      ]
     },
     "execution_count": 4,
     "metadata": {},
     "output_type": "execute_result"
    }
   ],
   "source": [
    "# find the different kinds of shoes we are looking for: flats, athletic shoe, boot, sandal/filp flops, heels/pumps, other\n",
    "\n",
    "names = [\"boot\" if \"boot\" in name else \"other\" for name in shoe_data[\"name\"]]\n",
    "\n",
    "#print(names)\n",
    "\n",
    "for index,name in shoe_data[\"name\"].iteritems():\n",
    "    #print(name)\n",
    "    if bool(re.search(\"boot*\",name.lower())):\n",
    "        shoe_data.loc[index,\"Shoe Category\"] = \"boot\"\n",
    "    elif bool(re.search(\"flat*\",name.lower())):\n",
    "        shoe_data.loc[index,\"Shoe Category\"] = \"flat\"\n",
    "    elif bool(re.search(\"loafer*\",name.lower())):\n",
    "        shoe_data.loc[index,\"Shoe Category\"] = \"flat\"\n",
    "    elif bool(re.search(\"athletic*\",name.lower())):\n",
    "        shoe_data.loc[index,\"Shoe Category\"] = \"athletic\"\n",
    "    elif bool(re.search(\"sneaker*\",name.lower())):\n",
    "        shoe_data.loc[index,\"Shoe Category\"] = \"athletic\"\n",
    "    elif bool(re.search(\"walk*\",name.lower())):\n",
    "        shoe_data.loc[index,\"Shoe Category\"] = \"athletic\"\n",
    "    elif bool(re.search(\"run*\",name.lower())):\n",
    "        shoe_data.loc[index,\"Shoe Category\"] = \"athletic\"\n",
    "    elif bool(re.search(\"sandal*\",name.lower())):\n",
    "        shoe_data.loc[index,\"Shoe Category\"] = \"sandal\"\n",
    "    elif bool(re.search(\"flip*\",name.lower())):\n",
    "        shoe_data.loc[index,\"Shoe Category\"] = \"sandal\"\n",
    "    elif bool(re.search(\"heel*\",name.lower())):\n",
    "        shoe_data.loc[index,\"Shoe Category\"] = \"heel\"\n",
    "    elif bool(re.search(\"pump*\",name.lower())):\n",
    "        shoe_data.loc[index,\"Shoe Category\"] = \"heel\"\n",
    "    else:\n",
    "        shoe_data.loc[index,\"Shoe Category\"] = \"other\"\n",
    "\n",
    "shoe_category = shoe_data[\"Shoe Category\"] \n",
    "\n",
    "shoe_data[\"Shoe Category\"] = shoe_category\n",
    "\n",
    "shoe_data.head()"
   ]
  },
  {
   "cell_type": "code",
   "execution_count": 5,
   "id": "f1cee2e4",
   "metadata": {},
   "outputs": [
    {
     "data": {
      "text/plain": [
       "boot        3393\n",
       "other       2028\n",
       "sandal      1234\n",
       "flat        1210\n",
       "athletic    1118\n",
       "heel        1017\n",
       "Name: Shoe Category, dtype: int64"
      ]
     },
     "execution_count": 5,
     "metadata": {},
     "output_type": "execute_result"
    }
   ],
   "source": [
    "# count the types of shoes\n",
    "shoe_count = shoe_data[\"Shoe Category\"].value_counts()\n",
    "\n",
    "shoe_count"
   ]
  },
  {
   "cell_type": "code",
   "execution_count": 6,
   "id": "9ab77861",
   "metadata": {},
   "outputs": [
    {
     "data": {
      "image/png": "[encoded data removed]",
      "text/plain": [
       "<Figure size 432x288 with 1 Axes>"
      ]
     },
     "metadata": {},
     "output_type": "display_data"
    }
   ],
   "source": [
    "# create pie chart for the different kinds of shoes for women that are produced based on this dataset\n",
    "\n",
    "# labels for the pie chart\n",
    "labels = [\"Boots\", \"Other\", \"Sandals\", \"Athletic\", \"Flat\", \"Heel\"]\n",
    "\n",
    "# the number of shoes produced for each category\n",
    "sizes = shoe_count\n",
    "\n",
    "# set colors for each shoe category for our pie chart\n",
    "colors = [\"red\", \"orange\", \"pink\", \"lightskyblue\", \"green\", \"blue\"]\n",
    "\n",
    "# seperate the \"Others\" section from the others\n",
    "explode = (0.1, 0, 0, 0, 0, 0)\n",
    "\n",
    "# create pie chart to display kinds of shoe values for women\n",
    "plt.pie(sizes, explode=explode, labels=labels, colors=colors,\n",
    "        autopct=\"%1.1f%%\", shadow=True, startangle=140)\n",
    "\n",
    "# save chart as png file\n",
    "plt.savefig(\"Images/Pie Chart for Shoe Categories.png\")\n",
    "\n",
    "plt.show()"
   ]
  },
  {
   "cell_type": "code",
   "execution_count": 7,
   "id": "14dde129",
   "metadata": {},
   "outputs": [
    {
     "data": {
      "image/png": "[encoded data removed]",
      "text/plain": [
       "<Figure size 432x288 with 1 Axes>"
      ]
     },
     "metadata": {
      "needs_background": "light"
     },
     "output_type": "display_data"
    }
   ],
   "source": [
    "# list the brand that produces the highest number of shoes based on frequency\n",
    "brands = shoe_data[\"brand\"].value_counts()\n",
    "\n",
    "# sort by the top 10 brands that produce the most shoes\n",
    "#top_brands = shoe_data.groupby(\"brand\").shoe_counts.nlargest(10).reset_index()\n",
    "top_brands = brands.head(10)\n",
    "\n",
    "# create bar chart\n",
    "top_brands.plot(kind=\"bar\")\n",
    "plt.ylabel(\"Number of Shoes Produced\")\n",
    "plt.xlabel(\"Brands\")\n",
    "plt.title(\"Total Number of Shoes Produced per Top Brands\")\n",
    "\n",
    "# save chart as png file\n",
    "plt.savefig(\"Images/Bar Chart for Top Brands.png\")\n",
    "\n",
    "plt.show()"
   ]
  },
  {
   "cell_type": "code",
   "execution_count": 8,
   "id": "c63c5436",
   "metadata": {},
   "outputs": [
    {
     "data": {
      "text/plain": [
       "brand\n",
       "Aerosoles                    94.373574\n",
       "Brinley Co.                  35.858352\n",
       "Drew                        140.198112\n",
       "Easy Street                  68.527107\n",
       "L'Artiste by Spring Step    120.229258\n",
       "Pleaser                      74.318257\n",
       "Propet                       64.509953\n",
       "SAS                         141.614198\n",
       "Soda                         32.756333\n",
       "Trotters                    104.821002\n",
       "Name: Avg Price, dtype: float64"
      ]
     },
     "execution_count": 8,
     "metadata": {},
     "output_type": "execute_result"
    }
   ],
   "source": [
    "# find average price for each line and create new column for it\n",
    "shoe_data['Avg Price'] = (shoe_data['prices.amountMin']+shoe_data['prices.amountMax'])/2\n",
    "\n",
    "# group by brand name\n",
    "groupedBrand = shoe_data.groupby(['brand'])\n",
    "\n",
    "# get average price per brand\n",
    "totalAvg = groupedBrand['Avg Price'].mean()\n",
    "\n",
    "# create a list of top brand names\n",
    "brandList = list(brands.head(10).keys())\n",
    "\n",
    "# get average price for top brands\n",
    "TopBrandAvg = totalAvg[totalAvg.keys().isin(brandList)]\n",
    "TopBrandAvg"
   ]
  },
  {
   "cell_type": "code",
   "execution_count": 9,
   "id": "2c5f6897",
   "metadata": {},
   "outputs": [
    {
     "data": {
      "image/png": "[encoded data removed]",
      "text/plain": [
       "<Figure size 432x288 with 1 Axes>"
      ]
     },
     "metadata": {
      "needs_background": "light"
     },
     "output_type": "display_data"
    }
   ],
   "source": [
    "# create bar chart for average prices of top brands\n",
    "TopBrandAvg.plot(kind=\"bar\")\n",
    "plt.ylabel(\"Average Price\")\n",
    "plt.xlabel(\"Brands\")\n",
    "plt.title(\"Average Prices of Top Brands\")\n",
    "\n",
    "# save figure\n",
    "plt.savefig(\"Images/Average Prices of Top Brands.png\")\n",
    "\n",
    "# show chart\n",
    "plt.show()"
   ]
  },
  {
   "cell_type": "code",
   "execution_count": 10,
   "id": "d2efe8ee",
   "metadata": {},
   "outputs": [
    {
     "data": {
      "image/png": "[encoded data removed]",
      "text/plain": [
       "<Figure size 432x288 with 1 Axes>"
      ]
     },
     "metadata": {
      "needs_background": "light"
     },
     "output_type": "display_data"
    },
    {
     "name": "stdout",
     "output_type": "stream",
     "text": [
      "Black     2561\n",
      "White      874\n",
      "Brown      346\n",
      "Grey       290\n",
      "Blue       289\n",
      "Taupe      275\n",
      "Silver     258\n",
      "Red        245\n",
      "Navy       245\n",
      "Tan        220\n",
      "Name: color 1, dtype: int64\n"
     ]
    }
   ],
   "source": [
    "# get the Top 10 colors and make a visualization\n",
    "colors = shoe_data[\"color 1\"].value_counts()\n",
    "top_colors = colors.head(10)\n",
    "\n",
    "# create bar chart for colors vs the number of shoes produced\n",
    "top_colors.plot(kind=\"bar\")\n",
    "plt.ylabel(\"Number of Shoes Produced\")\n",
    "plt.xlabel(\"Colors\")\n",
    "plt.title(\"Total Number of Shoes Produced per Top Shoe Color\")\n",
    "\n",
    "# save figure as ong file\n",
    "plt.savefig(\"Images/Bar Chart for # of Shoes and Top Colors.png\")\n",
    "\n",
    "plt.show()\n",
    "print(colors.head(10))"
   ]
  },
  {
   "cell_type": "code",
   "execution_count": 11,
   "id": "dae73d15",
   "metadata": {},
   "outputs": [
    {
     "data": {
      "text/plain": [
       "color 1\n",
       "Black     74.181667\n",
       "Blue      60.872595\n",
       "Brown     59.479827\n",
       "Grey      47.895793\n",
       "Navy      64.330571\n",
       "Red       60.580163\n",
       "Silver    56.232558\n",
       "Tan       51.047909\n",
       "Taupe     49.811164\n",
       "White     92.963673\n",
       "Name: Avg Price, dtype: float64"
      ]
     },
     "execution_count": 11,
     "metadata": {},
     "output_type": "execute_result"
    }
   ],
   "source": [
    "# find the average price per color\n",
    "shoe_data['Avg Price'] = (shoe_data['prices.amountMin']+shoe_data['prices.amountMax'])/2\n",
    "groupedColor = shoe_data.groupby(['color 1'])\n",
    "totalAvg = groupedColor['Avg Price'].mean()\n",
    "colorList = list(colors.head(10).keys())\n",
    "TopColorAvg = totalAvg[totalAvg.keys().isin(colorList)]\n",
    "TopColorAvg"
   ]
  },
  {
   "cell_type": "code",
   "execution_count": 12,
   "id": "ae224a72",
   "metadata": {},
   "outputs": [
    {
     "data": {
      "image/png": "[encoded data removed]",
      "text/plain": [
       "<Figure size 432x288 with 1 Axes>"
      ]
     },
     "metadata": {
      "needs_background": "light"
     },
     "output_type": "display_data"
    }
   ],
   "source": [
    "# create bar chart for average price per color\n",
    "TopColorAvg.plot(kind=\"bar\")\n",
    "plt.ylabel(\"Average Price Point\")\n",
    "plt.xlabel(\"Colors\")\n",
    "plt.title(\"Average Price Point per Top Shoe Color\")\n",
    "\n",
    "# save figure as ong file\n",
    "plt.savefig(\"Images/Bar Chart for Average Price per Color.png\")\n",
    "\n",
    "plt.show()"
   ]
  },
  {
   "cell_type": "code",
   "execution_count": 14,
   "id": "da610fbc",
   "metadata": {},
   "outputs": [
    {
     "data": {
      "image/png": "[encoded data removed]",
      "text/plain": [
       "<Figure size 432x288 with 1 Axes>"
      ]
     },
     "metadata": {
      "needs_background": "light"
     },
     "output_type": "display_data"
    }
   ],
   "source": [
    "price = shoe_data\n",
    "\n",
    "# Price.drop_duplicates(subset='id', keep='last', inplace=True)\n",
    "price = price.loc[price[\"Avg Price\"].between(0,500)]\n",
    "Athletic = price.loc[price[\"Shoe Category\"]==\"athletic\"]\n",
    "Boot = price.loc[price[\"Shoe Category\"]==\"boot\"]\n",
    "Flat = price.loc[price[\"Shoe Category\"]==\"flat\"]\n",
    "Heel = price.loc[price[\"Shoe Category\"]==\"heel\"]\n",
    "Sandal = price.loc[price[\"Shoe Category\"]==\"sandal\"]\n",
    "Other = price.loc[price[\"Shoe Category\"]==\"other\"]\n",
    "data = [Athletic[\"Avg Price\"],Boot[\"Avg Price\"],Flat[\"Avg Price\"],Heel[\"Avg Price\"],Sandal[\"Avg Price\"],Other[\"Avg Price\"]]\n",
    "ticks = [\"Athletic\",\"Boot\",\"Flat\",\"Heel\",\"Sandal\",\"Other\"]\n",
    "\n",
    "fig1,ax1 = plt.subplots()\n",
    "flierprops = dict(markerfacecolor = 'red')\n",
    "ax1.boxplot(data, flierprops = flierprops)\n",
    "ax1.set_title(\"Price by Shoe Category\")\n",
    "ax1.set_xticklabels(ticks)\n",
    "\n",
    "# save plot as png file\n",
    "plt.savefig(\"Images/Box Plot for Price Vs. Shoe Categories.png\")\n",
    "\n",
    "plt.show()"
   ]
  },
  {
   "cell_type": "code",
   "execution_count": 15,
   "id": "275b7e91",
   "metadata": {},
   "outputs": [
    {
     "data": {
      "text/plain": [
       "array([ 11.,   9.,   6.,   7.,   8.,  10.,  12.,   5.,   4.,  nan,  38.,\n",
       "        14.,  13.,  39.,  36.,  37.,  41.,  42.,  40.,  35.,  15.,  16.,\n",
       "        43.,  55.,   1.,   3.,   2.,  44., 600.,  17.])"
      ]
     },
     "execution_count": 15,
     "metadata": {},
     "output_type": "execute_result"
    }
   ],
   "source": [
    "# find the unique sizes for the prices.size column\n",
    "shoe_data[\"size\"]=shoe_data[\"prices.size\"].str.extract(\"(\\d*)\")\n",
    "shoe_data[\"size\"]=pd.to_numeric(shoe_data[\"size\"],errors='coerce')\n",
    "shoe_data[\"size\"].unique()"
   ]
  },
  {
   "cell_type": "code",
   "execution_count": 16,
   "id": "34d3fbb7",
   "metadata": {},
   "outputs": [
    {
     "data": {
      "text/plain": [
       "array([11.,  9.,  6.,  7.,  8., 10., 12.,  5.,  4.])"
      ]
     },
     "execution_count": 16,
     "metadata": {},
     "output_type": "execute_result"
    }
   ],
   "source": [
    "# create size dataframe\n",
    "sizeDF = shoe_data.loc[shoe_data[\"size\"].between(4,12)]\n",
    "sizeDF = sizeDF.loc[sizeDF[\"Avg Price\"].between(0,500)]\n",
    "sizeDF[\"size\"].unique()"
   ]
  },
  {
   "cell_type": "code",
   "execution_count": 19,
   "id": "9d05b588",
   "metadata": {},
   "outputs": [
    {
     "name": "stdout",
     "output_type": "stream",
     "text": [
      "The r-value is: 0.061574380653851034\n"
     ]
    },
    {
     "data": {
      "image/png": "[encoded data removed]",
      "text/plain": [
       "<Figure size 432x288 with 1 Axes>"
      ]
     },
     "metadata": {
      "needs_background": "light"
     },
     "output_type": "display_data"
    }
   ],
   "source": [
    "# create linear regression line for sizes vs prices\n",
    "(slope,intercept,rvalue,pvalue,stderr)=linregress(sizeDF[\"size\"],sizeDF[\"Avg Price\"])\n",
    "regress_values = sizeDF[\"size\"]*slope + intercept\n",
    "line_eq = f\"y = {round(slope,2)}x + {round(intercept,2)}\"\n",
    "\n",
    "# create scatter plot\n",
    "plt.scatter(sizeDF[\"size\"],sizeDF[\"Avg Price\"],edgecolors=\"black\")\n",
    "plt.plot(sizeDF[\"size\"],regress_values,\"r-\")\n",
    "plt.annotate(line_eq,(4,375),fontsize = 15,color=\"red\")\n",
    "plt.ylabel(\"Prices\")\n",
    "plt.xlabel(\"Women's Shoe Sizes\")\n",
    "plt.title(\"Women's Shoe Sizes vs Prices\")\n",
    "\n",
    "# show regression line\n",
    "print(f\"The r-value is: {rvalue}\")\n",
    "\n",
    "# save plot as png file\n",
    "plt.savefig(\"Images/Scatter Plot for Sizes vs Price.png\")\n",
    "\n",
    "plt.show()"
   ]
  },
  {
   "cell_type": "code",
   "execution_count": null,
   "id": "a49a472f",
   "metadata": {},
   "outputs": [],
   "source": []
  }
 ],
 "metadata": {
  "kernelspec": {
   "display_name": "Python 3",
   "language": "python",
   "name": "python3"
  },
  "language_info": {
   "codemirror_mode": {
    "name": "ipython",
    "version": 3
   },
   "file_extension": ".py",
   "mimetype": "text/x-python",
   "name": "python",
   "nbconvert_exporter": "python",
   "pygments_lexer": "ipython3",
   "version": "3.8.8"
  }
 },
 "nbformat": 4,
 "nbformat_minor": 5
}
